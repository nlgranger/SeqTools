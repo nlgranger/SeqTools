{
 "cells": [
  {
   "cell_type": "markdown",
   "metadata": {},
   "source": [
    "# Building and running a preprocessing pipeline\n",
    "\n",
    "In this example, an image processing pipeline is created and then executed in a manner that maximizes throughput."
   ]
  },
  {
   "cell_type": "code",
   "execution_count": null,
   "metadata": {},
   "outputs": [],
   "source": [
    "from PIL import Image, ImageOps\n",
    "import seqtools"
   ]
  },
  {
   "cell_type": "markdown",
   "metadata": {},
   "source": [
    "## Initial data loading\n",
    "\n",
    "SeqTools works with list-like indexable objects, so the first step is to create one that maps to our sample files."
   ]
  },
  {
   "cell_type": "code",
   "execution_count": null,
   "metadata": {},
   "outputs": [],
   "source": [
    "labels = [\"owl\", \"rooster\", \"duck\", \"bird\", \"dog\", \"hedgehog\"]\n",
    "# We artificially increase the size of the dataset for the example\n",
    "labels = [labels[i % 6] for i in range(200)]"
   ]
  },
  {
   "cell_type": "markdown",
   "metadata": {},
   "source": [
    "Then this object will undergo a series of transformations.\n",
    "\n",
    "First, let's load the full resolution images. If lazy evaluation was not used this would use a lot of memory but not with SeqTools."
   ]
  },
  {
   "cell_type": "code",
   "execution_count": null,
   "metadata": {},
   "outputs": [],
   "source": [
    "raw_images = seqtools.smap(lambda l: Image.open(\"../_static/\" + l + \".jpg\"), labels)"
   ]
  },
  {
   "cell_type": "markdown",
   "metadata": {},
   "source": [
    "We can verify the result for one sample, this will trigger the loading and return it:"
   ]
  },
  {
   "cell_type": "code",
   "execution_count": null,
   "metadata": {},
   "outputs": [],
   "source": [
    "raw_images[0]"
   ]
  },
  {
   "cell_type": "markdown",
   "metadata": {},
   "source": [
    "##  Mapping transformations\n",
    "\n",
    "As a first preprocessing stage, we can normalize the size:"
   ]
  },
  {
   "cell_type": "code",
   "execution_count": null,
   "metadata": {},
   "outputs": [],
   "source": [
    "def normalize_size(im):\n",
    "    w, h = im.size\n",
    "    left_crop = w // 2 - h // 2\n",
    "    return im.resize((200, 200), box=(left_crop, 1, h, h))\n",
    "\n",
    "small_images = seqtools.smap(normalize_size, raw_images)\n",
    "\n",
    "small_images[1]"
   ]
  },
  {
   "cell_type": "markdown",
   "metadata": {},
   "source": [
    "then apply a few common preprocessing steps:"
   ]
  },
  {
   "cell_type": "code",
   "execution_count": null,
   "metadata": {},
   "outputs": [],
   "source": [
    "contrasted = seqtools.smap(ImageOps.autocontrast, small_images)\n",
    "equalized = seqtools.smap(ImageOps.equalize, contrasted)\n",
    "grayscale = seqtools.smap(ImageOps.grayscale, equalized)\n",
    "\n",
    "grayscale[0]"
   ]
  },
  {
   "cell_type": "markdown",
   "metadata": {},
   "source": [
    "That preprocessing seems a bit over the top... let's check where it went wrong:"
   ]
  },
  {
   "cell_type": "code",
   "execution_count": null,
   "metadata": {},
   "outputs": [],
   "source": [
    "contrasted[0]"
   ]
  },
  {
   "cell_type": "code",
   "execution_count": null,
   "metadata": {},
   "outputs": [],
   "source": [
    "equalized[0]"
   ]
  },
  {
   "cell_type": "markdown",
   "metadata": {},
   "source": [
    "Note: For each image above, computations were only run to produce the requested item, eventhough we are manipulating the whole dataset as a single object.\n",
    "\n",
    "We find here that equalization is inappropriate and autocontrast is too weak, let's fix this."
   ]
  },
  {
   "cell_type": "code",
   "execution_count": null,
   "metadata": {},
   "outputs": [],
   "source": [
    "grayscale = seqtools.smap(ImageOps.grayscale, small_images)\n",
    "contrasted = seqtools.smap(lambda im: ImageOps.autocontrast(im, cutoff=3), grayscale)\n",
    "\n",
    "contrasted[0]"
   ]
  },
  {
   "cell_type": "markdown",
   "metadata": {},
   "source": [
    "## Combining datasets\n",
    "\n",
    "Then we want to augment the dataset with flipped versions of the images:"
   ]
  },
  {
   "cell_type": "code",
   "execution_count": null,
   "metadata": {},
   "outputs": [],
   "source": [
    "# Generate flipped versions of the images\n",
    "flipped = seqtools.smap(ImageOps.mirror, contrasted)\n",
    "\n",
    "# Combine with the original dataset\n",
    "augmented_dataset = seqtools.concatenate([contrasted, flipped])\n",
    "\n",
    "augmented_dataset[200]"
   ]
  },
  {
   "cell_type": "markdown",
   "metadata": {},
   "source": [
    "## Evaluation\n",
    "\n",
    "Once satisfied with our preprocessing pipeline, evaluating all values is simply done by iterating over the elements or forcing the conversion to a list:"
   ]
  },
  {
   "cell_type": "code",
   "execution_count": null,
   "metadata": {},
   "outputs": [],
   "source": [
    "%time computed_values = list(augmented_dataset);"
   ]
  },
  {
   "cell_type": "markdown",
   "metadata": {},
   "source": [
    "This above evaluation is a bit slow, probably due to the IO operations when loading the images from the hard drive. Maybe using multiple threads could help keep the CPU busy?"
   ]
  },
  {
   "cell_type": "code",
   "execution_count": null,
   "metadata": {},
   "outputs": [],
   "source": [
    "fast_dataset = seqtools.prefetch(augmented_dataset, max_buffered=10, nworkers=2)\n",
    "%time computed_values = list(fast_dataset)"
   ]
  },
  {
   "cell_type": "markdown",
   "metadata": {},
   "source": [
    "The CPU time is the same (plus some threading overhead), but wall time is cut down because image processing continues while other files are being loaded.\n",
    "\n",
    "However, we can spare more IO and computations by not reading the images a second time to generate augmented versions.\n",
    "\n",
    "To do so, let's simply add some cache over the preprocessed image that will be used as-is or augmented.\n",
    "Because the cache can only contain so-many files, we make sure to process the normal and augmented variant consecutively so that the input is still available in the cache.\n",
    "Practically, this is done by interleaving the regular and flipped dataset."
   ]
  },
  {
   "cell_type": "code",
   "execution_count": null,
   "metadata": {},
   "outputs": [],
   "source": [
    "contrasted = seqtools.add_cache(contrasted, cache_size=10)\n",
    "flipped = seqtools.smap(lambda im: (im, ImageOps.mirror(im)), contrasted)\n",
    "augmented_dataset = seqtools.interleave(contrasted, flipped)\n",
    "fast_dataset = seqtools.prefetch(augmented_dataset, max_buffered=10, nworkers=2)"
   ]
  },
  {
   "cell_type": "markdown",
   "metadata": {},
   "source": [
    "Note: concatenation would be inappropriate to replace unbatching here. Indeed, Concatenation initially checks the length of each sequences (in this case each pair of images) to join, which amounts to evaluating all elements."
   ]
  },
  {
   "cell_type": "code",
   "execution_count": null,
   "metadata": {},
   "outputs": [],
   "source": [
    "%time computed_values = list(fast_dataset)"
   ]
  },
  {
   "cell_type": "markdown",
   "metadata": {},
   "source": [
    "CPU time is now cut by half, leaving more room for other processes."
   ]
  },
  {
   "cell_type": "markdown",
   "metadata": {},
   "source": [
    "## Further reading\n",
    "\n",
    "SeqTools facilitates the manipulation of sequences and reduces the boilerplate from using multi-threading or multi-processing.\n",
    "However, users must remain conscious of the mechanic under the hood to avoid pitfalls.\n",
    "Here are a few points to keep in mind while programming with this library:\n",
    "\n",
    "- Avoid spurious computations when reading the same element multiple times, maybe use cache.\n",
    "- Check for thread/process under-utilization, avoid having threads waiting for each other or doing redundant work.\n",
    "- Multi-processing has limitations: communication over-head, no shared cache between processes...\n",
    "- Threading has limitations: no more than one thread can execute python code at any given time, concurrency is mostly limited to system IO operations."
   ]
  }
 ],
 "metadata": {
  "kernelspec": {
   "display_name": "seqtools",
   "language": "python",
   "name": "python3"
  },
  "language_info": {
   "codemirror_mode": {
    "name": "ipython",
    "version": 3
   },
   "file_extension": ".py",
   "mimetype": "text/x-python",
   "name": "python",
   "nbconvert_exporter": "python",
   "pygments_lexer": "ipython3",
   "version": "3.11.3"
  },
  "vscode": {
   "interpreter": {
    "hash": "732a98e1bd2fbf3bf79b1c9dbb0c3d21960821ee38a5c7d6ce6804d1285c688b"
   }
  }
 },
 "nbformat": 4,
 "nbformat_minor": 4
}
